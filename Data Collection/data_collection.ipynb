{
 "cells": [
  {
   "cell_type": "code",
   "execution_count": 1,
   "metadata": {},
   "outputs": [],
   "source": [
    "import tweepy # python library to access twitter API\n",
    "import json\n",
    "import pandas as pd"
   ]
  },
  {
   "cell_type": "code",
   "execution_count": 3,
   "metadata": {},
   "outputs": [
    {
     "name": "stdout",
     "output_type": "stream",
     "text": [
      "Consumer key: UZlpukxO2V83q5xOYfdwhApRI\n",
      "Access token: 3749410335-Uin7wBdkZr4gxXfHxD1d37vQNBV5N6rWi5IGuTX\n"
     ]
    }
   ],
   "source": [
    "class AuthenticatorCredentials:\n",
    "    def __init__(self, credential_list):\n",
    "        self.CONSUMER_KEY = credential_list[0]#CONSUMER_KEY\n",
    "        self.CONSUMER_SECRET = credential_list[1]#CONSUMER_SECRET\n",
    "        self.ACCESS_TOKEN = credential_list[2]#ACCESS_TOKEN\n",
    "        self.ACCESS_TOKEN_SECRET = credential_list[3]#ACCESS_TOKEN_SECRET\n",
    "\n",
    "\n",
    "CONSUMER_KEY = \"XXXXXXXXXX\"\n",
    "CONSUMER_SECRET = \"XXXXXXXXXX\"\n",
    "ACCESS_TOKEN = \"XXXXXXXXXX\"\n",
    "ACCESS_TOKEN_SECRET = \"XXXXXXXXXX\"\n",
    "\n",
    "credentials = [CONSUMER_KEY,CONSUMER_SECRET,ACCESS_TOKEN, ACCESS_TOKEN_SECRET]\n",
    "    \n",
    "twitter_credentials = AuthenticatorCredentials(credentials)\n",
    "print(\"Consumer key: {}\".format(twitter_credentials.CONSUMER_KEY))\n",
    "print(\"Access token: {}\".format(twitter_credentials.ACCESS_TOKEN))"
   ]
  },
  {
   "cell_type": "code",
   "execution_count": null,
   "metadata": {},
   "outputs": [],
   "source": [
    "auth = tweepy.OAuthHandler(twitter_credentials.CONSUMER_KEY, twitter_credentials.CONSUMER_SECRET)\n",
    "auth.set_access_token(twitter_credentials.ACCESS_TOKEN, twitter_credentials.ACCESS_TOKEN_SECRET)\n",
    "\n",
    "api = tweepy.API(auth, wait_on_rate_limit=True, wait_on_rate_limit_notify=True)"
   ]
  },
  {
   "cell_type": "code",
   "execution_count": 4,
   "metadata": {},
   "outputs": [
    {
     "name": "stdout",
     "output_type": "stream",
     "text": [
      "Dataset shape (37438, 2)\n"
     ]
    }
   ],
   "source": [
    "labelled_twitter_accounts = pd.read_csv(\"twitter_human_bots_dataset.csv\", sep=',')\n",
    "print(f\"Dataset shape {labelled_twitter_accounts.shape}\")"
   ]
  },
  {
   "cell_type": "code",
   "execution_count": null,
   "metadata": {},
   "outputs": [],
   "source": [
    "df = pd.DataFrame(columns=['id', 'screen_name', 'location', 'description', 'url', 'protected', 'followers_count', 'friends_count', 'listed_count', 'created_at', 'favourites_count', 'geo_enabled', 'verified', 'statuses_count', 'lang', 'profile_use_background_image', 'default_profile', 'default_profile_image'])"
   ]
  },
  {
   "cell_type": "code",
   "execution_count": null,
   "metadata": {},
   "outputs": [],
   "source": [
    "all_user = []\n",
    "\n",
    "for i in labelled_twitter_accounts.index:\n",
    "    try:\n",
    "        user_info = {}\n",
    "        print(\"row# \", i, \"/37438\", \"id: \", labelled_twitter_accounts[\"id\"][i])\n",
    "        user = api.get_user(labelled_twitter_accounts[\"id\"][i])\n",
    "        user_info['id'] = int(labelled_twitter_accounts[\"id\"][i])\n",
    "        user_info['screen_name'] = user.screen_name\n",
    "        user_info['location'] = user.location\n",
    "        user_info['description'] = user.description\n",
    "        user_info['url'] = user.url\n",
    "        user_info['protected'] = user.protected\n",
    "        user_info['followers_count'] = int(user.followers_count)\n",
    "        user_info['friends_count'] = int(user.friends_count)\n",
    "        user_info['listed_count'] = int(user.listed_count)\n",
    "        user_info['created_at'] = str(user.created_at)\n",
    "        user_info['favourites_count'] = int(user.favourites_count)\n",
    "        user_info['geo_enabled'] = user.geo_enabled\n",
    "        user_info['verified'] = user.verified\n",
    "        user_info['statuses_count'] = int(user.statuses_count)\n",
    "        user_info['lang'] = user.lang\n",
    "        user_info['profile_use_background_image'] = user.profile_use_background_image\n",
    "        user_info['default_profile'] = user.default_profile\n",
    "        user_info['default_profile_image'] = user.default_profile_image\n",
    "\n",
    "        all_user.append(user_info)\n",
    "\n",
    "    except:\n",
    "        print(\"id not found or suspended：\", labelled_twitter_accounts[\"id\"][i])"
   ]
  },
  {
   "cell_type": "code",
   "execution_count": null,
   "metadata": {},
   "outputs": [],
   "source": [
    "with open('result.json', 'w') as f:\n",
    "    json.dump(all_user, f)"
   ]
  },
  {
   "cell_type": "code",
   "execution_count": null,
   "metadata": {},
   "outputs": [],
   "source": [
    "user_data = pd.read_json(\"result.json\")\n",
    "varified_data = pd.read_csv(\"twitter_human_bots_dataset.csv\", sep=',')\n",
    "\n",
    "user_data.insert(0, \"is_bot\", 1)\n",
    "count = 0\n",
    "\n",
    "for i in user.index:\n",
    "    for j in varified_data.index:\n",
    "        if user_data[\"id\"][i] == varified_data[\"id\"][j]:\n",
    "            if varified_data[\"account_type\"][j] == \"human\":\n",
    "                user_data[\"is_bot\"][i] = 0\n",
    "            else:\n",
    "                user_data[\"is_bot\"][i] = 1\n",
    "    print(\"count:\",count)\n",
    "    count = count + 1\n",
    "\n",
    "\n",
    "\n",
    "user_data.to_csv('final_data.csv')"
   ]
  },
  {
   "cell_type": "code",
   "execution_count": null,
   "metadata": {},
   "outputs": [],
   "source": []
  }
 ],
 "metadata": {
  "interpreter": {
   "hash": "f69aea160ce59f87d92fd75b6db75e647b8bbfed0edc1c42f8ef574a2884d78f"
  },
  "kernelspec": {
   "display_name": "Python 3 (ipykernel)",
   "language": "python",
   "name": "python3"
  },
  "language_info": {
   "codemirror_mode": {
    "name": "ipython",
    "version": 3
   },
   "file_extension": ".py",
   "mimetype": "text/x-python",
   "name": "python",
   "nbconvert_exporter": "python",
   "pygments_lexer": "ipython3",
   "version": "3.10.4"
  }
 },
 "nbformat": 4,
 "nbformat_minor": 4
}
